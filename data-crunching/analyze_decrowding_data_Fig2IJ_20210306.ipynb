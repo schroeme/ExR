{
 "cells": [
  {
   "cell_type": "code",
   "execution_count": 1,
   "metadata": {},
   "outputs": [],
   "source": [
    "import numpy as np\n",
    "import pandas as pd\n",
    "from scipy.stats import ttest_ind\n",
    "import matplotlib.pyplot as plt \n",
    "from mpl_toolkits.mplot3d import Axes3D\n",
    "import cv2\n",
    "from os import listdir\n",
    "def intersection(lst1, lst2): \n",
    "    lst3 = [value for value in lst1 if value in lst2] \n",
    "    return lst3 \n",
    "\n",
    "def unique(list1): \n",
    "    # insert the list to the set \n",
    "    list_set = set(list1) \n",
    "    # convert the set to the list \n",
    "    unique_list = (list(list_set)) \n",
    "    return unique_list\n",
    "\n",
    "import researchpy as rp\n",
    "import seaborn as sns\n",
    "\n",
    "import statsmodels.api as sm\n",
    "from statsmodels.formula.api import ols\n",
    "import statsmodels.stats.multicomp\n",
    "from statsmodels.stats import multitest\n",
    "from statsmodels.sandbox.stats.multicomp import MultiComparison"
   ]
  },
  {
   "cell_type": "code",
   "execution_count": 2,
   "metadata": {},
   "outputs": [],
   "source": [
    "folder = '/Users/margaretschroeder/Dropbox (MIT)/BoydenLab/ExR_Decrowding/Decrowding crop image/'"
   ]
  },
  {
   "cell_type": "code",
   "execution_count": 3,
   "metadata": {},
   "outputs": [],
   "source": [
    "data_raw = pd.read_csv(folder + 'synapselevel_decrowding_forstats_20210306.csv')"
   ]
  },
  {
   "cell_type": "code",
   "execution_count": 4,
   "metadata": {},
   "outputs": [
    {
     "data": {
      "text/html": [
       "<div>\n",
       "<style scoped>\n",
       "    .dataframe tbody tr th:only-of-type {\n",
       "        vertical-align: middle;\n",
       "    }\n",
       "\n",
       "    .dataframe tbody tr th {\n",
       "        vertical-align: top;\n",
       "    }\n",
       "\n",
       "    .dataframe thead th {\n",
       "        text-align: right;\n",
       "    }\n",
       "</style>\n",
       "<table border=\"1\" class=\"dataframe\">\n",
       "  <thead>\n",
       "    <tr style=\"text-align: right;\">\n",
       "      <th></th>\n",
       "      <th>protein</th>\n",
       "      <th>pre_post</th>\n",
       "      <th>in_out</th>\n",
       "      <th>signal</th>\n",
       "      <th>volume</th>\n",
       "    </tr>\n",
       "  </thead>\n",
       "  <tbody>\n",
       "    <tr>\n",
       "      <th>0</th>\n",
       "      <td>Cav2.1</td>\n",
       "      <td>pre</td>\n",
       "      <td>out</td>\n",
       "      <td>4.674356</td>\n",
       "      <td>635.500000</td>\n",
       "    </tr>\n",
       "    <tr>\n",
       "      <th>1</th>\n",
       "      <td>Cav2.1</td>\n",
       "      <td>pre</td>\n",
       "      <td>out</td>\n",
       "      <td>2.382948</td>\n",
       "      <td>9.872727</td>\n",
       "    </tr>\n",
       "    <tr>\n",
       "      <th>2</th>\n",
       "      <td>Cav2.1</td>\n",
       "      <td>pre</td>\n",
       "      <td>out</td>\n",
       "      <td>3.599700</td>\n",
       "      <td>29.960000</td>\n",
       "    </tr>\n",
       "    <tr>\n",
       "      <th>3</th>\n",
       "      <td>Cav2.1</td>\n",
       "      <td>pre</td>\n",
       "      <td>out</td>\n",
       "      <td>62.292006</td>\n",
       "      <td>249.411765</td>\n",
       "    </tr>\n",
       "    <tr>\n",
       "      <th>4</th>\n",
       "      <td>Cav2.1</td>\n",
       "      <td>pre</td>\n",
       "      <td>out</td>\n",
       "      <td>60.592382</td>\n",
       "      <td>130.517857</td>\n",
       "    </tr>\n",
       "    <tr>\n",
       "      <th>...</th>\n",
       "      <td>...</td>\n",
       "      <td>...</td>\n",
       "      <td>...</td>\n",
       "      <td>...</td>\n",
       "      <td>...</td>\n",
       "    </tr>\n",
       "    <tr>\n",
       "      <th>244</th>\n",
       "      <td>Shank3</td>\n",
       "      <td>post</td>\n",
       "      <td>in</td>\n",
       "      <td>98.754629</td>\n",
       "      <td>1701.181818</td>\n",
       "    </tr>\n",
       "    <tr>\n",
       "      <th>245</th>\n",
       "      <td>Shank3</td>\n",
       "      <td>post</td>\n",
       "      <td>in</td>\n",
       "      <td>83.498446</td>\n",
       "      <td>1928.047619</td>\n",
       "    </tr>\n",
       "    <tr>\n",
       "      <th>246</th>\n",
       "      <td>Shank3</td>\n",
       "      <td>post</td>\n",
       "      <td>in</td>\n",
       "      <td>95.127475</td>\n",
       "      <td>2145.064516</td>\n",
       "    </tr>\n",
       "    <tr>\n",
       "      <th>247</th>\n",
       "      <td>Shank3</td>\n",
       "      <td>post</td>\n",
       "      <td>in</td>\n",
       "      <td>95.350465</td>\n",
       "      <td>2900.079365</td>\n",
       "    </tr>\n",
       "    <tr>\n",
       "      <th>248</th>\n",
       "      <td>NaN</td>\n",
       "      <td>NaN</td>\n",
       "      <td>NaN</td>\n",
       "      <td>NaN</td>\n",
       "      <td>NaN</td>\n",
       "    </tr>\n",
       "  </tbody>\n",
       "</table>\n",
       "<p>249 rows × 5 columns</p>\n",
       "</div>"
      ],
      "text/plain": [
       "    protein pre_post in_out     signal       volume\n",
       "0    Cav2.1      pre    out   4.674356   635.500000\n",
       "1    Cav2.1      pre    out   2.382948     9.872727\n",
       "2    Cav2.1      pre    out   3.599700    29.960000\n",
       "3    Cav2.1      pre    out  62.292006   249.411765\n",
       "4    Cav2.1      pre    out  60.592382   130.517857\n",
       "..      ...      ...    ...        ...          ...\n",
       "244  Shank3     post     in  98.754629  1701.181818\n",
       "245  Shank3     post     in  83.498446  1928.047619\n",
       "246  Shank3     post     in  95.127475  2145.064516\n",
       "247  Shank3     post     in  95.350465  2900.079365\n",
       "248     NaN      NaN    NaN        NaN          NaN\n",
       "\n",
       "[249 rows x 5 columns]"
      ]
     },
     "execution_count": 4,
     "metadata": {},
     "output_type": "execute_result"
    }
   ],
   "source": [
    "data_raw"
   ]
  },
  {
   "cell_type": "markdown",
   "metadata": {},
   "source": [
    "## Run three-way ANOVA with protein, in/out, and pre/post as factors, and no interaction terms"
   ]
  },
  {
   "cell_type": "code",
   "execution_count": 26,
   "metadata": {},
   "outputs": [
    {
     "name": "stdout",
     "output_type": "stream",
     "text": [
      "                   sum_sq     df           F        PR(>F)\n",
      "Intercept    5.820695e+07    1.0  177.796700  1.077695e-30\n",
      "C(protein)   2.048699e+07    6.0   10.429795  2.859230e-10\n",
      "C(in_out)    2.357308e+07    1.0   72.005420  2.274974e-15\n",
      "C(pre_post)  1.540138e+07    1.0   47.044455  5.892117e-11\n",
      "Residual     7.824364e+07  239.0         NaN           NaN\n"
     ]
    }
   ],
   "source": [
    "#change the model between signal and volume below\n",
    "lm_full = ols('volume ~ C(protein) + C(in_out) + C(pre_post)',data=data_raw).fit()\n",
    "table_full = sm.stats.anova_lm(lm_full, typ=3)\n",
    "print(table_full)\n",
    "table_full.to_clipboard()"
   ]
  },
  {
   "cell_type": "markdown",
   "metadata": {},
   "source": [
    "## Now run multiple 2-way ANOVAs for each protein, and correct these"
   ]
  },
  {
   "cell_type": "code",
   "execution_count": 8,
   "metadata": {},
   "outputs": [],
   "source": [
    "prot_list = ['Bassoon','Cav2.1','Homer1','PSD95','Rim1/2','Shank3','SynGAP']"
   ]
  },
  {
   "cell_type": "code",
   "execution_count": 39,
   "metadata": {},
   "outputs": [
    {
     "name": "stdout",
     "output_type": "stream",
     "text": [
      "Bassoon\n",
      "0.040855913068770865\n",
      "Cav2.1\n",
      "0.319983380550952\n",
      "Homer1\n",
      "1.710335080052583e-11\n",
      "PSD95\n",
      "0.032895349735568805\n",
      "Rim1/2\n",
      "0.001399629274468057\n",
      "Shank3\n",
      "9.649889733595324e-10\n",
      "SynGAP\n",
      "0.023985849075715472\n"
     ]
    }
   ],
   "source": [
    "#volume\n",
    "pvals = []\n",
    "for prot in prot_list:\n",
    "    prot_subset = data_raw[data_raw['protein']==prot]\n",
    "    lm = ols('volume ~ C(pre_post) + C(in_out)',data=prot_subset).fit()\n",
    "    tbl = sm.stats.anova_lm(lm, typ=3)\n",
    "    p = tbl.loc['C(in_out)']['PR(>F)']\n",
    "    pvals.append(p)\n",
    "    print(prot)\n",
    "    print(p)"
   ]
  },
  {
   "cell_type": "code",
   "execution_count": 40,
   "metadata": {},
   "outputs": [],
   "source": [
    "pvalarr = np.array(pvals)"
   ]
  },
  {
   "cell_type": "code",
   "execution_count": 41,
   "metadata": {},
   "outputs": [],
   "source": [
    "reject,pvalscorr,_,_ = multitest.multipletests(pvalarr, alpha=0.05, method='hs', is_sorted=False, returnsorted=False)"
   ]
  },
  {
   "cell_type": "code",
   "execution_count": 42,
   "metadata": {},
   "outputs": [],
   "source": [
    "vol_corrected_multiways = pd.DataFrame([pvalarr,pvalscorr,reject])"
   ]
  },
  {
   "cell_type": "code",
   "execution_count": 43,
   "metadata": {},
   "outputs": [],
   "source": [
    "vol_corrected_multiways.T.to_clipboard()"
   ]
  },
  {
   "cell_type": "code",
   "execution_count": 44,
   "metadata": {},
   "outputs": [
    {
     "data": {
      "text/html": [
       "<div>\n",
       "<style scoped>\n",
       "    .dataframe tbody tr th:only-of-type {\n",
       "        vertical-align: middle;\n",
       "    }\n",
       "\n",
       "    .dataframe tbody tr th {\n",
       "        vertical-align: top;\n",
       "    }\n",
       "\n",
       "    .dataframe thead th {\n",
       "        text-align: right;\n",
       "    }\n",
       "</style>\n",
       "<table border=\"1\" class=\"dataframe\">\n",
       "  <thead>\n",
       "    <tr style=\"text-align: right;\">\n",
       "      <th></th>\n",
       "      <th>0</th>\n",
       "      <th>1</th>\n",
       "      <th>2</th>\n",
       "    </tr>\n",
       "  </thead>\n",
       "  <tbody>\n",
       "    <tr>\n",
       "      <th>0</th>\n",
       "      <td>0.0408559</td>\n",
       "      <td>0.0954753</td>\n",
       "      <td>False</td>\n",
       "    </tr>\n",
       "    <tr>\n",
       "      <th>1</th>\n",
       "      <td>0.319983</td>\n",
       "      <td>0.319983</td>\n",
       "      <td>False</td>\n",
       "    </tr>\n",
       "    <tr>\n",
       "      <th>2</th>\n",
       "      <td>1.71034e-11</td>\n",
       "      <td>1.19723e-10</td>\n",
       "      <td>True</td>\n",
       "    </tr>\n",
       "    <tr>\n",
       "      <th>3</th>\n",
       "      <td>0.0328953</td>\n",
       "      <td>0.0954753</td>\n",
       "      <td>False</td>\n",
       "    </tr>\n",
       "    <tr>\n",
       "      <th>4</th>\n",
       "      <td>0.00139963</td>\n",
       "      <td>0.00697858</td>\n",
       "      <td>True</td>\n",
       "    </tr>\n",
       "    <tr>\n",
       "      <th>5</th>\n",
       "      <td>9.64989e-10</td>\n",
       "      <td>5.78993e-09</td>\n",
       "      <td>True</td>\n",
       "    </tr>\n",
       "    <tr>\n",
       "      <th>6</th>\n",
       "      <td>0.0239858</td>\n",
       "      <td>0.0925463</td>\n",
       "      <td>False</td>\n",
       "    </tr>\n",
       "  </tbody>\n",
       "</table>\n",
       "</div>"
      ],
      "text/plain": [
       "             0            1      2\n",
       "0    0.0408559    0.0954753  False\n",
       "1     0.319983     0.319983  False\n",
       "2  1.71034e-11  1.19723e-10   True\n",
       "3    0.0328953    0.0954753  False\n",
       "4   0.00139963   0.00697858   True\n",
       "5  9.64989e-10  5.78993e-09   True\n",
       "6    0.0239858    0.0925463  False"
      ]
     },
     "execution_count": 44,
     "metadata": {},
     "output_type": "execute_result"
    }
   ],
   "source": [
    "vol_corrected_multiways.T"
   ]
  },
  {
   "cell_type": "code",
   "execution_count": null,
   "metadata": {},
   "outputs": [],
   "source": []
  }
 ],
 "metadata": {
  "kernelspec": {
   "display_name": "Python 3",
   "language": "python",
   "name": "python3"
  },
  "language_info": {
   "codemirror_mode": {
    "name": "ipython",
    "version": 3
   },
   "file_extension": ".py",
   "mimetype": "text/x-python",
   "name": "python",
   "nbconvert_exporter": "python",
   "pygments_lexer": "ipython3",
   "version": "3.7.6"
  }
 },
 "nbformat": 4,
 "nbformat_minor": 4
}
